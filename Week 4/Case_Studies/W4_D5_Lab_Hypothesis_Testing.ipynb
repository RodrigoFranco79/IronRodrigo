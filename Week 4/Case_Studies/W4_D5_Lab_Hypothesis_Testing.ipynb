{
 "cells": [
  {
   "cell_type": "markdown",
   "id": "4802ac5f",
   "metadata": {},
   "source": [
    "## 1. It is assumed that the mean systolic blood pressure is `μ = 120 mm Hg`. In the Honolulu Heart Study, a sample of `n = 100` people had an average systolic blood pressure of 130.1 mm Hg with a standard deviation of 21.21 mm Hg. Is the group significantly different (with respect to systolic blood pressure!) from the regular population?\n"
   ]
  },
  {
   "cell_type": "markdown",
   "id": "77ecab03",
   "metadata": {},
   "source": [
    " ### Set up the hypothesis test.\n",
    "  * Null hipothesis HO\n",
    "  * Alternate hypothesis Ha\n",
    "  * Critical value\n",
    "  * Test Statistic"
   ]
  },
  {
   "cell_type": "markdown",
   "id": "c07d4277",
   "metadata": {},
   "source": [
    " ### Write down all the steps followed for setting up the test"
   ]
  },
  {
   "cell_type": "markdown",
   "id": "b1e81be1",
   "metadata": {},
   "source": [
    "T = (X – μ) / [ σ/√(n) ]"
   ]
  },
  {
   "cell_type": "markdown",
   "id": "a5e4b8a0",
   "metadata": {},
   "source": [
    "  ### Calculate the test statistic by hand and also code it in Python. It should be 4.76190."
   ]
  },
  {
   "cell_type": "code",
   "execution_count": 4,
   "id": "40a25ea3",
   "metadata": {},
   "outputs": [],
   "source": [
    "from scipy import stats"
   ]
  },
  {
   "cell_type": "code",
   "execution_count": 5,
   "id": "b878ff67",
   "metadata": {},
   "outputs": [],
   "source": [
    "t=(130.1-120)/(21.21/(100)**0.5)"
   ]
  },
  {
   "cell_type": "code",
   "execution_count": 6,
   "id": "ee12fc63",
   "metadata": {},
   "outputs": [
    {
     "data": {
      "text/plain": [
       "4.761904761904759"
      ]
     },
     "execution_count": 6,
     "metadata": {},
     "output_type": "execute_result"
    }
   ],
   "source": [
    "t"
   ]
  },
  {
   "cell_type": "code",
   "execution_count": 7,
   "id": "527db160",
   "metadata": {},
   "outputs": [
    {
     "data": {
      "text/plain": [
       "1.9842169515086827"
      ]
     },
     "execution_count": 7,
     "metadata": {},
     "output_type": "execute_result"
    }
   ],
   "source": [
    "tc=stats.t.ppf(1-(0.05/2),df=99)\n",
    "tc"
   ]
  },
  {
   "cell_type": "markdown",
   "id": "f9c95864",
   "metadata": {
    "run_control": {
     "marked": true
    }
   },
   "source": [
    "### What decision can you make based on this calculated value?\n"
   ]
  },
  {
   "cell_type": "markdown",
   "id": "a4667d41",
   "metadata": {},
   "source": [
    "tc<t, hence we reject the null hypothesis"
   ]
  },
  {
   "cell_type": "code",
   "execution_count": 9,
   "id": "0b355ffb",
   "metadata": {},
   "outputs": [],
   "source": [
    "#New Machine\t  Old Machine\n",
    "#42.1\t        42.7\n",
    "#41\t          43.6\n",
    "#41.3\t        43.8\n",
    "#41.8\t        43.3\n",
    "#42.4\t        42.5\n",
    "#42.8\t        43.5\n",
    "#43.2\t        43.1\n",
    "#42.3\t        41.7\n",
    "#41.8\t        44\n",
    "#42.7\t        44.1\n"
   ]
  },
  {
   "cell_type": "code",
   "execution_count": 11,
   "id": "52a04075",
   "metadata": {},
   "outputs": [],
   "source": [
    "New_Machine=(42.1,41,41.3,41.8,42.4,42.8,43.2,42.3,41.8,42.7)"
   ]
  },
  {
   "cell_type": "code",
   "execution_count": 12,
   "id": "52b9ee14",
   "metadata": {},
   "outputs": [],
   "source": [
    "Old_Machine=(42.7, 43.6, 43.8, 43.3, 42.5,43.5, 43.1, 41.7, 44, 44.1)"
   ]
  },
  {
   "cell_type": "code",
   "execution_count": 13,
   "id": "6a869ddd",
   "metadata": {},
   "outputs": [],
   "source": [
    "import numpy as np\n"
   ]
  },
  {
   "cell_type": "code",
   "execution_count": 14,
   "id": "a31f024d",
   "metadata": {},
   "outputs": [
    {
     "data": {
      "text/plain": [
       "42.14"
      ]
     },
     "execution_count": 14,
     "metadata": {},
     "output_type": "execute_result"
    }
   ],
   "source": [
    "sample_new=np.mean (New_Machine)\n",
    "sample_new"
   ]
  },
  {
   "cell_type": "code",
   "execution_count": 15,
   "id": "9ebe204b",
   "metadata": {},
   "outputs": [
    {
     "data": {
      "text/plain": [
       "43.230000000000004"
      ]
     },
     "execution_count": 15,
     "metadata": {},
     "output_type": "execute_result"
    }
   ],
   "source": [
    "sample_old=np.mean(Old_Machine)\n",
    "sample_old"
   ]
  },
  {
   "cell_type": "code",
   "execution_count": null,
   "id": "102d996a",
   "metadata": {},
   "outputs": [],
   "source": [
    "t=(sample_mean-sample_old/square())"
   ]
  }
 ],
 "metadata": {
  "kernelspec": {
   "display_name": "Python 3 (ipykernel)",
   "language": "python",
   "name": "python3"
  },
  "language_info": {
   "codemirror_mode": {
    "name": "ipython",
    "version": 3
   },
   "file_extension": ".py",
   "mimetype": "text/x-python",
   "name": "python",
   "nbconvert_exporter": "python",
   "pygments_lexer": "ipython3",
   "version": "3.9.12"
  },
  "nbTranslate": {
   "displayLangs": [
    "*"
   ],
   "hotkey": "alt-t",
   "langInMainMenu": true,
   "sourceLang": "en",
   "targetLang": "fr",
   "useGoogleTranslate": true
  },
  "toc": {
   "base_numbering": 1,
   "nav_menu": {},
   "number_sections": true,
   "sideBar": true,
   "skip_h1_title": false,
   "title_cell": "Table of Contents",
   "title_sidebar": "Contents",
   "toc_cell": false,
   "toc_position": {},
   "toc_section_display": true,
   "toc_window_display": false
  },
  "varInspector": {
   "cols": {
    "lenName": 16,
    "lenType": 16,
    "lenVar": 40
   },
   "kernels_config": {
    "python": {
     "delete_cmd_postfix": "",
     "delete_cmd_prefix": "del ",
     "library": "var_list.py",
     "varRefreshCmd": "print(var_dic_list())"
    },
    "r": {
     "delete_cmd_postfix": ") ",
     "delete_cmd_prefix": "rm(",
     "library": "var_list.r",
     "varRefreshCmd": "cat(var_dic_list()) "
    }
   },
   "types_to_exclude": [
    "module",
    "function",
    "builtin_function_or_method",
    "instance",
    "_Feature"
   ],
   "window_display": false
  }
 },
 "nbformat": 4,
 "nbformat_minor": 5
}
