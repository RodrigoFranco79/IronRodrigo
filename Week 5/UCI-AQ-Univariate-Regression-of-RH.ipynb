{
 "cells": [
  {
   "cell_type": "code",
   "execution_count": null,
   "id": "80d814fa",
   "metadata": {},
   "outputs": [],
   "source": [
    "# Air-Quality-Dataset-Analysis-EDA"
   ]
  },
  {
   "cell_type": "code",
   "execution_count": null,
   "id": "429851aa",
   "metadata": {},
   "outputs": [],
   "source": [
    "### Python · UCI ML Air Quality Dataset\n"
   ]
  },
  {
   "cell_type": "code",
   "execution_count": null,
   "id": "a4071f8b",
   "metadata": {},
   "outputs": [],
   "source": [
    "# Project Air Quality\n",
    "\n",
    "### Domain Name: Environment Air quality\n",
    "\n",
    "### Abstract: \n",
    "\n",
    "Contains the responses of a gas multisensor device deployed on the field in an Italian city. Hourly responses averages are recorded along with gas concentrations references from a certified analyzer."
   ]
  },
  {
   "cell_type": "code",
   "execution_count": null,
   "id": "244330a5",
   "metadata": {},
   "outputs": [],
   "source": [
    "1.1  In this notebook, you'll find:\n",
    "About the dataset\n",
    "Exploratory Data Analysis\n",
    "Data Visualization\n",
    "Summary of extracted patterns and relationships within the datset"
   ]
  },
  {
   "cell_type": "code",
   "execution_count": null,
   "id": "e5a44468",
   "metadata": {},
   "outputs": [],
   "source": [
    "1.2  Dependencies:¶\n",
    "Matplotlib\n",
    "Plotly\n",
    "Seaborn\n",
    "NumPy\n",
    "Pandas"
   ]
  },
  {
   "cell_type": "code",
   "execution_count": null,
   "id": "3408df0f",
   "metadata": {},
   "outputs": [],
   "source": [
    "## Contents"
   ]
  },
  {
   "cell_type": "markdown",
   "id": "99ffe91a",
   "metadata": {},
   "source": []
  },
  {
   "cell_type": "code",
   "execution_count": null,
   "id": "5ee4df39",
   "metadata": {},
   "outputs": [],
   "source": [
    "### Objective"
   ]
  },
  {
   "cell_type": "code",
   "execution_count": null,
   "id": "aafc390e",
   "metadata": {},
   "outputs": [],
   "source": []
  }
 ],
 "metadata": {
  "kernelspec": {
   "display_name": "Python 3 (ipykernel)",
   "language": "python",
   "name": "python3"
  },
  "language_info": {
   "codemirror_mode": {
    "name": "ipython",
    "version": 3
   },
   "file_extension": ".py",
   "mimetype": "text/x-python",
   "name": "python",
   "nbconvert_exporter": "python",
   "pygments_lexer": "ipython3",
   "version": "3.9.12"
  },
  "nbTranslate": {
   "displayLangs": [
    "*"
   ],
   "hotkey": "alt-t",
   "langInMainMenu": true,
   "sourceLang": "en",
   "targetLang": "fr",
   "useGoogleTranslate": true
  },
  "toc": {
   "base_numbering": 1,
   "nav_menu": {},
   "number_sections": true,
   "sideBar": true,
   "skip_h1_title": false,
   "title_cell": "Table of Contents",
   "title_sidebar": "Contents",
   "toc_cell": false,
   "toc_position": {},
   "toc_section_display": true,
   "toc_window_display": true
  },
  "varInspector": {
   "cols": {
    "lenName": 16,
    "lenType": 16,
    "lenVar": 40
   },
   "kernels_config": {
    "python": {
     "delete_cmd_postfix": "",
     "delete_cmd_prefix": "del ",
     "library": "var_list.py",
     "varRefreshCmd": "print(var_dic_list())"
    },
    "r": {
     "delete_cmd_postfix": ") ",
     "delete_cmd_prefix": "rm(",
     "library": "var_list.r",
     "varRefreshCmd": "cat(var_dic_list()) "
    }
   },
   "types_to_exclude": [
    "module",
    "function",
    "builtin_function_or_method",
    "instance",
    "_Feature"
   ],
   "window_display": false
  }
 },
 "nbformat": 4,
 "nbformat_minor": 5
}
